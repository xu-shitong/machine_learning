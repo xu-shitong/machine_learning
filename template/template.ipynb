{
 "cells": [
  {
   "cell_type": "markdown",
   "metadata": {},
   "source": [
    "# Training curves"
   ]
  },
  {
   "cell_type": "code",
   "execution_count": null,
   "metadata": {},
   "outputs": [],
   "source": [
    "import matplotlib.pyplot as plt\n",
    "import torch\n",
    "\n",
    "def extract_float(file_name, start=\"\"):\n",
    "    def isfloat(word):\n",
    "        try:\n",
    "            float(word)\n",
    "            return True\n",
    "        except ValueError:\n",
    "            return False\n",
    "    import re\n",
    "    file = open(file_name)\n",
    "    l = [[float(word) for word in re.split(\"\\n|,|\\[|\\]|\\(|\\)| \", line) if isfloat(word)] for line in file if line.startswith(start)]\n",
    "    return torch.tensor(l)\n",
    "\n",
    "# train validation curve\n",
    "file_names = [\n",
    "    ...\n",
    "]\n",
    "\n",
    "\n",
    "fig, axarr = plt.subplots(len(file_names), 1, figsize=(15, 15), sharex=False, sharey=False)\n",
    "names = []\n",
    "for i, file_name in enumerate(file_names):\n",
    "  losses = extract_float(file_name, start=\"Epoch\") # shape [iteration_number * print num per iteration, ...]\n",
    "\n",
    "  losses = losses[100:]\n",
    "  axarr[i].plot(losses[:, todo], label=\"train loss\")\n",
    "  axarr[i].plot(losses[:, todo], label=\"val loss\")\n",
    "  axarr[i].set_ylabel(file_name.split(\".\")[0])\n",
    "  axarr[i].set_title(\"avg loss\")\n",
    "  axarr[i].legend(loc=\"upper right\")\n",
    "\n"
   ]
  },
  {
   "cell_type": "code",
   "execution_count": null,
   "metadata": {},
   "outputs": [],
   "source": [
    "fig, axarr = plt.subplots(len(file_names), ..., figsize=(20, 15), sharex=False)\n",
    "names = []\n",
    "for i, file_name in enumerate(file_names):\n",
    "  losses = extract_float(file_name, start=\"Epoch\") # shape [iteration_number * print num per iteration, 8], only loss at index [5, 7] are useful for plot\n",
    "\n",
    "  # losses = losses[:400]\n",
    "  axarr[i, 0].plot(losses[:, 2], label=\"train loss\", alpha=0.5)\n",
    "  axarr[i, 0].plot(losses[:, todo], label=\"val loss\", alpha=0.5)\n",
    "  axarr[i, 0].set_title(\"...\")\n",
    "  axarr[i, 0].set_ylabel(file_name.split(\".\")[0])\n",
    "  axarr[i, 0].legend(loc=\"upper right\")\n",
    "\n",
    "  axarr[i, 1].plot(losses[:, 3], label=\"train loss\", alpha=0.5)\n",
    "  axarr[i, 1].plot(losses[:, todo], label=\"val loss\", alpha=0.5)\n",
    "  axarr[i, 1].set_title(\"...\")\n",
    "  axarr[i, 1].legend(loc=\"upper right\")\n",
    "\n",
    "  axarr[i, 2].plot(losses[:, 4], label=\"train loss\", alpha=0.5)\n",
    "  axarr[i, 2].plot(losses[:, todo], label=\"val loss\", alpha=0.5)\n",
    "  axarr[i, 2].set_title(\"...\")\n",
    "  axarr[i, 2].legend(loc=\"upper right\")\n",
    "  \n",
    "  axarr[i, 3].plot(losses[:, 5], label=\"train loss\", alpha=0.5)\n",
    "  axarr[i, 3].plot(losses[:, todo], label=\"val loss\", alpha=0.5)\n",
    "  axarr[i, 3].set_title(\"...\")\n",
    "  axarr[i, 3].legend(loc=\"upper right\")\n",
    "  \n",
    "  axarr[i, 4].plot(losses[:, 6], label=\"train loss\", alpha=0.5)\n",
    "  axarr[i, 4].plot(losses[:, todo], label=\"val loss\", alpha=0.5)\n",
    "  axarr[i, 4].set_title(\"...\")\n",
    "  axarr[i, 4].legend(loc=\"upper right\")\n",
    "\n",
    "  axarr[i, 5].plot(losses[:, 7], label=\"train loss\", alpha=0.5)\n",
    "  axarr[i, 5].plot(losses[:, todo], label=\"val loss\", alpha=0.5)\n",
    "  axarr[i, 5].set_title(\"...\")\n",
    "  axarr[i, 5].legend(loc=\"upper right\")\n"
   ]
  },
  {
   "cell_type": "markdown",
   "metadata": {},
   "source": [
    "# Visualize Spectrum, Waveform"
   ]
  },
  {
   "cell_type": "code",
   "execution_count": null,
   "metadata": {},
   "outputs": [],
   "source": [
    "import torch\n",
    "from ... import ...Dataset\n",
    "\n",
    "dataset = ...Dataset(...)\n",
    "sample = dataset[0]"
   ]
  },
  {
   "cell_type": "code",
   "execution_count": null,
   "metadata": {},
   "outputs": [],
   "source": [
    "from ... import ...Model\n",
    "\n",
    "model = ...Model()\n",
    "\n",
    "model.load_state_dict(torch.load(\n",
    "    \"....pt\",\n",
    "    map_location=torch.device('cpu'))[\"state_dict\"],\n",
    "    strict=True)"
   ]
  },
  {
   "cell_type": "code",
   "execution_count": null,
   "metadata": {},
   "outputs": [],
   "source": [
    "model.eval()\n",
    "data = [d.unsqueeze(0) for d in sample] # add batch dim \n",
    "... = data[0], data[1], data[2], ...\n",
    "\n",
    "with torch.no_grad():\n",
    "    ... = model(...)\n"
   ]
  },
  {
   "cell_type": "code",
   "execution_count": null,
   "metadata": {},
   "outputs": [],
   "source": [
    "fig, axarr = plt.subplots(2, 1, figsize=(15, 10), sharex=False, sharey=True)\n",
    "\n",
    "axarr[0].set_title(\"...\")\n",
    "axarr[0].axis(\"off\")\n",
    "\n",
    "axarr[0].plot(...)\n",
    "\n",
    "ax = axarr[1].imshow(...)\n",
    "fig.colorbar(ax, ax=axarr[1])\n",
    "\n"
   ]
  }
 ],
 "metadata": {
  "kernelspec": {
   "display_name": "ss",
   "language": "python",
   "name": "python3"
  },
  "language_info": {
   "codemirror_mode": {
    "name": "ipython",
    "version": 3
   },
   "file_extension": ".py",
   "mimetype": "text/x-python",
   "name": "python",
   "nbconvert_exporter": "python",
   "pygments_lexer": "ipython3",
   "version": "3.9.18"
  }
 },
 "nbformat": 4,
 "nbformat_minor": 2
}
